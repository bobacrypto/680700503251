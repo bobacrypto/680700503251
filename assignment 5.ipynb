{
 "cells": [
  {
   "cell_type": "code",
   "execution_count": 1,
   "id": "fb156081",
   "metadata": {},
   "outputs": [
    {
     "name": "stdout",
     "output_type": "stream",
     "text": [
      "Car rented . Total cost =8000\n"
     ]
    }
   ],
   "source": [
    "class Car :\n",
    "    def __init__(self,model,rent_per_day,available):\n",
    "        self.model = model\n",
    "        self.rent_per_day = rent_per_day\n",
    "        self.available =True\n",
    "    def rent(self,day) :\n",
    "        if self.available :\n",
    "           self.available = False\n",
    "           total_cost = self.rent_per_day * day \n",
    "           print(f\"Car rented . Total cost ={total_cost}\")\n",
    "        else:\n",
    "            print(\"Car is not available to rent\")\n",
    "    def return_car(self):\n",
    "        self.available = True\n",
    "        print(\"Car returned\")\n",
    "    def display(self):\n",
    "        print(f\"Model: {self.model}\")\n",
    "        print(f\"Rent per day: {self.rent_per_day}\")\n",
    "        print(f\"Availible: {self.available}\")\n",
    "car1 = Car(\"toyota\",1000,True)\n",
    "car1.rent(8)\n"
   ]
  },
  {
   "cell_type": "code",
   "execution_count": 6,
   "id": "eaa82a7a",
   "metadata": {},
   "outputs": [
    {
     "name": "stdout",
     "output_type": "stream",
     "text": [
      "Name: Bank, Age: 19\n",
      "Added Math - 85\n",
      "Added Science - 85\n",
      "Math: 85\n",
      "Science: 85\n",
      "Average score: 85.0\n"
     ]
    }
   ],
   "source": [
    "class Person:\n",
    "    def __init__(self, name, age):   \n",
    "        self.name = name\n",
    "        self.age = age\n",
    "\n",
    "    def display_info(self):\n",
    "        print(f\"Name: {self.name}, Age: {self.age}\")\n",
    "\n",
    "\n",
    "class Student(Person):\n",
    "    def __init__(self, name, age):\n",
    "        super().__init__(name, age)\n",
    "        self.marks = {}   \n",
    "    def add_mark(self, subject, score):\n",
    "        if subject in self.marks:\n",
    "            self.marks[subject] = score\n",
    "            print(f\"Updated {subject} - {score}\")\n",
    "        else:\n",
    "            self.marks[subject] = score\n",
    "            print(f\"Added {subject} - {score}\")\n",
    "\n",
    "    def display_marks(self):\n",
    "        if not self.marks:\n",
    "            print(\"No marks available.\")\n",
    "        else:\n",
    "            for subject, score in self.marks.items():\n",
    "                print(f\"{subject}: {score}\")\n",
    "\n",
    "    def average(self):\n",
    "        if not self.marks:\n",
    "            return 0\n",
    "        return sum(self.marks.values()) / len(self.marks)\n",
    "\n",
    "\n",
    "student1 = Student(\"Bank\", 19)\n",
    "student1.display_info()\n",
    "\n",
    "student1.add_mark(\"Math\", 85)\n",
    "student1.add_mark(\"Science\", 85)\n",
    "\n",
    "student1.display_marks()\n",
    "print(\"Average score:\", student1.average())\n"
   ]
  }
 ],
 "metadata": {
  "kernelspec": {
   "display_name": "Python 3",
   "language": "python",
   "name": "python3"
  },
  "language_info": {
   "codemirror_mode": {
    "name": "ipython",
    "version": 3
   },
   "file_extension": ".py",
   "mimetype": "text/x-python",
   "name": "python",
   "nbconvert_exporter": "python",
   "pygments_lexer": "ipython3",
   "version": "3.12.6"
  }
 },
 "nbformat": 4,
 "nbformat_minor": 5
}
