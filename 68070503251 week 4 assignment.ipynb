{
 "cells": [
  {
   "cell_type": "markdown",
   "id": "96feae9f",
   "metadata": {},
   "source": [
    "#Even and Odd\n",
    "iterate for loop from numer 1 to n:\n",
    "if the numer is evem,print \"[number] is even\"\n",
    "otherwise,print \"[number] is odd:\n",
    "\n",
    "if n = 5 ==> expected output\n",
    "0 is even\n",
    "1 is odd\n",
    "2 is even\n",
    "3 is odd\n",
    "4 is even"
   ]
  },
  {
   "cell_type": "code",
   "execution_count": 5,
   "id": "94904098",
   "metadata": {},
   "outputs": [
    {
     "name": "stdout",
     "output_type": "stream",
     "text": [
      "0 is even\n",
      "1 is odd\n",
      "2 is even\n",
      "3 is odd\n",
      "4 is even\n"
     ]
    }
   ],
   "source": [
    "n=5\n",
    "for i in range(0,n):\n",
    "    if i%2 == 0:\n",
    "        print (i, \"is even\")\n",
    "    else:\n",
    "        print (i, \"is odd\")"
   ]
  },
  {
   "cell_type": "markdown",
   "id": "bedaa19a",
   "metadata": {},
   "source": [
    "Division\n",
    "-define number n = 100\n",
    "-Use a loop from 1 to 10 (the value of looping variale is 1 to 10)\n",
    "-if the result of quotient (number/i) is greater than 5=> print(\"The best result is large\")\n",
    "-if the result of quotient (number/i) is exactly equal to 6 ==> skip the loop with continue\n",
    "-otherwise,print the actual quotient ==> print (\"quotient=\",quotient)"
   ]
  },
  {
   "cell_type": "code",
   "execution_count": 24,
   "id": "d735ff56",
   "metadata": {},
   "outputs": [
    {
     "name": "stdout",
     "output_type": "stream",
     "text": [
      "the best result is large\n",
      "the best result is large\n",
      "the best result is large\n",
      "the best result is large\n",
      "the best result is large\n",
      "the best result is large\n",
      "the best result is large\n",
      "the best result is large\n",
      "the best result is large\n",
      "the best result is large\n"
     ]
    }
   ],
   "source": [
    "n=100\n",
    "for i in range(1,11):\n",
    "    result=n/i\n",
    "    if result>5:\n",
    "        print(\"the best result is large\")\n",
    "    elif result==6:\n",
    "        continue\n",
    "    else:\n",
    "        print(\"result=\",result)\n",
    "\n",
    "\n",
    "    \n"
   ]
  },
  {
   "cell_type": "markdown",
   "id": "35f49035",
   "metadata": {},
   "source": [
    "Login Authentication\n",
    "-Create a dictionary named 'credentials' with username as key and password as values.\n",
    "-Initialize the dictionary with three users:(username-user1,password - abc123),(username-admin,password-adminpass,username-guest,password-guest123)\n",
    "-Ask the user to enter the username and password.\n",
    "-If the username exist and the password matches,print(\"Login successful\")\n",
    "-If the username exist but the password is wrong,print(\"incorect password\")\n",
    "-If the username does not exist,print(\"user not found\")"
   ]
  },
  {
   "cell_type": "code",
   "execution_count": 39,
   "id": "9001001f",
   "metadata": {},
   "outputs": [
    {
     "name": "stdout",
     "output_type": "stream",
     "text": [
      "Login successful\n"
     ]
    }
   ],
   "source": [
    "username = input(\"enter username\")\n",
    "password = input(\"enter password\")\n",
    "credentials={\"user1\":\"abc123\",\"admin\":\"adminpass\",\"guest\":\"guest123\"}\n",
    "if username in credentials:\n",
    "    if credentials[username] == password:\n",
    "        print(\"Login successful\")\n",
    "    else:\n",
    "            print(\"incorect password\")\n",
    "else:\n",
    "        print(\"user not found\")\n"
   ]
  },
  {
   "cell_type": "code",
   "execution_count": 41,
   "id": "5c3e5992",
   "metadata": {},
   "outputs": [
    {
     "name": "stdout",
     "output_type": "stream",
     "text": [
      "* * * * * \n",
      "* * * * * \n",
      "* * * * * \n",
      "* * * * * \n",
      "* * * * * \n"
     ]
    }
   ],
   "source": [
    "stars = 5\n",
    "row = 5\n",
    "for i in range(1,row+1):\n",
    "    for j in range(1,stars+1):\n",
    "        print(\"*\",end=\" \")\n",
    "    print()"
   ]
  },
  {
   "cell_type": "code",
   "execution_count": 75,
   "id": "092651ea",
   "metadata": {},
   "outputs": [
    {
     "name": "stdout",
     "output_type": "stream",
     "text": [
      "* \n",
      "* * \n",
      "* * * \n",
      "* * * * \n",
      "* * * * * \n"
     ]
    }
   ],
   "source": [
    "stars = 1\n",
    "row = 5\n",
    "for i in range(1,row+1):\n",
    "    for j in range(1,i+1):\n",
    "        print(\"*\",end=\" \")\n",
    "        stars=+1\n",
    "    print()"
   ]
  },
  {
   "cell_type": "markdown",
   "id": "ee8dfffb",
   "metadata": {},
   "source": [
    "shopping cart checkout\n",
    "use int variable total_bill=0\n",
    "Ask user to add price and add the price to total_bill.\n",
    "If total_bill>=1000,print(\"limit reached. You cannot buy anymore.\")\n",
    "otherwis,ask userto add price"
   ]
  },
  {
   "cell_type": "code",
   "execution_count": 80,
   "id": "1aa93b80",
   "metadata": {},
   "outputs": [
    {
     "name": "stdout",
     "output_type": "stream",
     "text": [
      "limit reached. You cannot buy anymore.\n"
     ]
    }
   ],
   "source": [
    "total_bill= 0\n",
    "add_price= int(input(\"Enter the price\"))\n",
    "total_bill+=add_price\n",
    "while total_bill<1000:\n",
    "    add_price= int(input(\"Enter the price\"))\n",
    "    total_bill+=add_price\n",
    "print (\"limit reached. You cannot buy anymore.\")\n",
    "\n"
   ]
  }
 ],
 "metadata": {
  "kernelspec": {
   "display_name": "Python 3",
   "language": "python",
   "name": "python3"
  },
  "language_info": {
   "codemirror_mode": {
    "name": "ipython",
    "version": 3
   },
   "file_extension": ".py",
   "mimetype": "text/x-python",
   "name": "python",
   "nbconvert_exporter": "python",
   "pygments_lexer": "ipython3",
   "version": "3.12.6"
  }
 },
 "nbformat": 4,
 "nbformat_minor": 5
}
